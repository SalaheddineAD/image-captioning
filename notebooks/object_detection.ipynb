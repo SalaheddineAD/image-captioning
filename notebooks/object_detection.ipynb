{
 "cells": [
  {
   "cell_type": "code",
   "execution_count": 47,
   "metadata": {},
   "outputs": [
    {
     "name": "stdout",
     "output_type": "stream",
     "text": [
      "💬 Raw response:\n",
      "{\"results\":[{\"status\":{\"code\":\"ok\",\"message\":\"Success\"},\"name\":\"https://storage.googleapis.com/api4ai-static/samples/general-det-1.jpg\",\"md5\":\"756e084d9e55f37b0f92483cc8bfd9c2\",\"entities\":[{\"kind\":\"objects\",\"name\":\"general-object-detector\",\"objects\":[{\"box\":[0.11980730295181274,0.40848466753959656,0.31302690505981445,0.4732735753059387],\"entities\":[{\"kind\":\"classes\",\"name\":\"classes\",\"classes\":{\"elephant\":0.9192293882369995}}]},{\"box\":[0.5308361053466797,0.5796281695365906,0.1335376501083374,0.3014415502548218],\"entities\":[{\"kind\":\"classes\",\"name\":\"classes\",\"classes\":{\"person\":0.8235878944396973}}]},{\"box\":[0.6863186359405518,0.6229009032249451,0.16645169258117676,0.2779897153377533],\"entities\":[{\"kind\":\"classes\",\"name\":\"classes\",\"classes\":{\"person\":0.7554508447647095}}]},{\"box\":[0.6577036380767822,0.7587888836860657,0.05275833606719971,0.03179466351866722],\"entities\":[{\"kind\":\"classes\",\"name\":\"classes\",\"classes\":{\"frisbee\":0.23767375946044922}}]},{\"box\":[0.664183497428894,0.7567124366760254,0.17998039722442627,0.13011102378368378],\"entities\":[{\"kind\":\"classes\",\"name\":\"classes\",\"classes\":{\"surfboard\":0.16943219304084778}}]},{\"box\":[0.527772068977356,0.7855008840560913,0.01734137535095215,0.026543132960796356],\"entities\":[{\"kind\":\"classes\",\"name\":\"classes\",\"classes\":{\"sports ball\":0.16391152143478394}}]},{\"box\":[0.6590868234634399,0.7605014443397522,0.0636143684387207,0.0472254604101181],\"entities\":[{\"kind\":\"classes\",\"name\":\"classes\",\"classes\":{\"surfboard\":0.13610807061195374}}]},{\"box\":[0.5551611185073853,0.8791083097457886,0.16242194175720215,0.027791043743491173],\"entities\":[{\"kind\":\"classes\",\"name\":\"classes\",\"classes\":{\"surfboard\":0.12691384553909302}}]},{\"box\":[0.6288769245147705,0.8576416969299316,0.32804954051971436,0.06848538666963577],\"entities\":[{\"kind\":\"classes\",\"name\":\"classes\",\"classes\":{\"surfboard\":0.11492064595222473}}]},{\"box\":[0.535975456237793,0.5780675411224365,0.13514506816864014,0.3050291836261749],\"entities\":[{\"kind\":\"classes\",\"name\":\"classes\",\"classes\":{\"frisbee\":0.10632261633872986}}]},{\"box\":[0.5321781635284424,0.7846642732620239,0.01920771598815918,0.02572372369468212],\"entities\":[{\"kind\":\"classes\",\"name\":\"classes\",\"classes\":{\"frisbee\":0.10128277540206909}}]},{\"box\":[0.8187504410743713,0.7944319844245911,0.16720783710479736,0.10018572211265564],\"entities\":[{\"kind\":\"classes\",\"name\":\"classes\",\"classes\":{\"bench\":0.09685647487640381}}]},{\"box\":[0.5321781635284424,0.7846642732620239,0.01920771598815918,0.02572372369468212],\"entities\":[{\"kind\":\"classes\",\"name\":\"classes\",\"classes\":{\"baseball glove\":0.08886265754699707}}]},{\"box\":[0.6577036380767822,0.7587888836860657,0.05275833606719971,0.03179466351866722],\"entities\":[{\"kind\":\"classes\",\"name\":\"classes\",\"classes\":{\"car\":0.08037510514259338}}]},{\"box\":[0.6577036380767822,0.7587888836860657,0.05275833606719971,0.03179466351866722],\"entities\":[{\"kind\":\"classes\",\"name\":\"classes\",\"classes\":{\"sports ball\":0.07202321290969849}}]},{\"box\":[0.5373247265815735,0.8803961277008057,0.05767548084259033,0.022245971485972404],\"entities\":[{\"kind\":\"classes\",\"name\":\"classes\",\"classes\":{\"surfboard\":0.06646996736526489}}]},{\"box\":[0.527772068977356,0.7855008840560913,0.01734137535095215,0.026543132960796356],\"entities\":[{\"kind\":\"classes\",\"name\":\"classes\",\"classes\":{\"tennis racket\":0.06452915072441101}}]},{\"box\":[0.6590868234634399,0.7605014443397522,0.0636143684387207,0.0472254604101181],\"entities\":[{\"kind\":\"classes\",\"name\":\"classes\",\"classes\":{\"boat\":0.05786880850791931}}]},{\"box\":[0.5340270400047302,0.7733392119407654,0.1895982027053833,0.09803731739521027],\"entities\":[{\"kind\":\"classes\",\"name\":\"classes\",\"classes\":{\"surfboard\":0.05615502595901489}}]},{\"box\":[0.535975456237793,0.5780675411224365,0.13514506816864014,0.3050291836261749],\"entities\":[{\"kind\":\"classes\",\"name\":\"classes\",\"classes\":{\"baseball glove\":0.0512540340423584}}]},{\"box\":[0.6943621635437012,0.6194381713867188,0.1775503158569336,0.2878938913345337],\"entities\":[{\"kind\":\"classes\",\"name\":\"classes\",\"classes\":{\"baseball glove\":0.049322932958602905}}]},{\"box\":[0.5221816301345825,0.8788437843322754,0.15191221237182617,0.026217015460133553],\"entities\":[{\"kind\":\"classes\",\"name\":\"classes\",\"classes\":{\"skis\":0.048879772424697876}}]},{\"box\":[0.6577036380767822,0.7587888836860657,0.05275833606719971,0.03179466351866722],\"entities\":[{\"kind\":\"classes\",\"name\":\"classes\",\"classes\":{\"kite\":0.04797607660293579}}]},{\"box\":[0.5308361053466797,0.5796281695365906,0.1335376501083374,0.3014415502548218],\"entities\":[{\"kind\":\"classes\",\"name\":\"classes\",\"classes\":{\"sports ball\":0.04760846495628357}}]},{\"box\":[0.10578010976314545,0.7535043358802795,0.01690410077571869,0.043032292276620865],\"entities\":[{\"kind\":\"classes\",\"name\":\"classes\",\"classes\":{\"bird\":0.044846922159194946}}]},{\"box\":[0.5119463801383972,0.8721759915351868,0.06254053115844727,0.01828996278345585],\"entities\":[{\"kind\":\"classes\",\"name\":\"classes\",\"classes\":{\"surfboard\":0.04422503709793091}}]},{\"box\":[0.5434637665748596,0.6077939867973328,0.12108206748962402,0.2835795283317566],\"entities\":[{\"kind\":\"classes\",\"name\":\"classes\",\"classes\":{\"tennis racket\":0.04376831650733948}}]},{\"box\":[0.6699711084365845,0.7230613231658936,0.21381521224975586,0.17409248650074005],\"entities\":[{\"kind\":\"classes\",\"name\":\"classes\",\"classes\":{\"kite\":0.04273879528045654}}]},{\"box\":[0.6921646595001221,0.616167426109314,0.16645097732543945,0.2785157561302185],\"entities\":[{\"kind\":\"classes\",\"name\":\"classes\",\"classes\":{\"frisbee\":0.04204794764518738}}]},{\"box\":[0.8204163312911987,0.7907101511955261,0.16356921195983887,0.09075891971588135],\"entities\":[{\"kind\":\"classes\",\"name\":\"classes\",\"classes\":{\"boat\":0.0418323278427124}}]},{\"box\":[0.6577036380767822,0.7587888836860657,0.05275833606719971,0.03179466351866722],\"entities\":[{\"kind\":\"classes\",\"name\":\"classes\",\"classes\":{\"backpack\":0.040879517793655396}}]},{\"box\":[0.5432823300361633,0.8758555054664612,0.030718684196472168,0.013322489336133003],\"entities\":[{\"kind\":\"classes\",\"name\":\"classes\",\"classes\":{\"frisbee\":0.040837883949279785}}]},{\"box\":[0.6549493074417114,0.6705744862556458,0.3075559139251709,0.23243458569049835],\"entities\":[{\"kind\":\"classes\",\"name\":\"classes\",\"classes\":{\"bench\":0.040454715490341187}}]},{\"box\":[0.8711297512054443,0.7979800701141357,0.06286406517028809,0.02532225102186203],\"entities\":[{\"kind\":\"classes\",\"name\":\"classes\",\"classes\":{\"bird\":0.04037627577781677}}]},{\"box\":[0.8291837573051453,0.7952641248703003,0.1614757776260376,0.0996374785900116],\"entities\":[{\"kind\":\"classes\",\"name\":\"classes\",\"classes\":{\"truck\":0.03776481747627258}}]},{\"box\":[0.6911942362785339,0.620570719242096,0.16885077953338623,0.2834947109222412],\"entities\":[{\"kind\":\"classes\",\"name\":\"classes\",\"classes\":{\"sports ball\":0.037687867879867554}}]},{\"box\":[0.534859299659729,0.787510335445404,0.1723853349685669,0.09080420434474945],\"entities\":[{\"kind\":\"classes\",\"name\":\"classes\",\"classes\":{\"skis\":0.03705921769142151}}]},{\"box\":[0.6573456525802612,0.7425633668899536,0.22355353832244873,0.15781991183757782],\"entities\":[{\"kind\":\"classes\",\"name\":\"classes\",\"classes\":{\"elephant\":0.035988062620162964}}]},{\"box\":[0.5261797904968262,0.7956061363220215,0.01961219310760498,0.025458820164203644],\"entities\":[{\"kind\":\"classes\",\"name\":\"classes\",\"classes\":{\"baseball bat\":0.035831719636917114}}]},{\"box\":[0.5357760190963745,0.580480694770813,0.13576853275299072,0.3140566647052765],\"entities\":[{\"kind\":\"classes\",\"name\":\"classes\",\"classes\":{\"clock\":0.03557443618774414}}]},{\"box\":[0.00591043196618557,0.8425810933113098,0.024991929531097412,0.05437999591231346],\"entities\":[{\"kind\":\"classes\",\"name\":\"classes\",\"classes\":{\"bird\":0.03508058190345764}}]},{\"box\":[0.5208126902580261,0.8026180267333984,0.02943289279937744,0.03669967129826546],\"entities\":[{\"kind\":\"classes\",\"name\":\"classes\",\"classes\":{\"surfboard\":0.03463006019592285}}]},{\"box\":[0.6679210662841797,0.7225692868232727,0.20239031314849854,0.17537261545658112],\"entities\":[{\"kind\":\"classes\",\"name\":\"classes\",\"classes\":{\"car\":0.03289574384689331}}]},{\"box\":[0.5774197578430176,0.7636733055114746,0.12003695964813232,0.04733267426490784],\"entities\":[{\"kind\":\"classes\",\"name\":\"classes\",\"classes\":{\"baseball glove\":0.03268367052078247}}]},{\"box\":[0.6534883975982666,0.7452651262283325,0.2627321481704712,0.1536310315132141],\"entities\":[{\"kind\":\"classes\",\"name\":\"classes\",\"classes\":{\"boat\":0.03230983018875122}}]},{\"box\":[0.5551611185073853,0.8791083097457886,0.16242194175720215,0.027791043743491173],\"entities\":[{\"kind\":\"classes\",\"name\":\"classes\",\"classes\":{\"frisbee\":0.03208598494529724}}]},{\"box\":[0.5340270400047302,0.7733392119407654,0.1895982027053833,0.09803731739521027],\"entities\":[{\"kind\":\"classes\",\"name\":\"classes\",\"classes\":{\"elephant\":0.03183034062385559}}]},{\"box\":[0.6798248291015625,0.6284563541412354,0.16790497303009033,0.2672187089920044],\"entities\":[{\"kind\":\"classes\",\"name\":\"classes\",\"classes\":{\"tennis racket\":0.03158608078956604}}]},{\"box\":[0.6577036380767822,0.7587888836860657,0.05275833606719971,0.03179466351866722],\"entities\":[{\"kind\":\"classes\",\"name\":\"classes\",\"classes\":{\"baseball glove\":0.03148666024208069}}]},{\"box\":[0.00591043196618557,0.8425810933113098,0.024991929531097412,0.05437999591231346],\"entities\":[{\"kind\":\"classes\",\"name\":\"classes\",\"classes\":{\"elephant\":0.0313049852848053}}]},{\"box\":[0.6577036380767822,0.7587888836860657,0.05275833606719971,0.03179466351866722],\"entities\":[{\"kind\":\"classes\",\"name\":\"classes\",\"classes\":{\"tennis racket\":0.03126642107963562}}]},{\"box\":[0.5993901491165161,0.6450245380401611,0.027280807495117188,0.05333828181028366],\"entities\":[{\"kind\":\"classes\",\"name\":\"classes\",\"classes\":{\"backpack\":0.031235814094543457}}]},{\"box\":[0.535975456237793,0.5780675411224365,0.13514506816864014,0.3050291836261749],\"entities\":[{\"kind\":\"classes\",\"name\":\"classes\",\"classes\":{\"car\":0.030983000993728638}}]},{\"box\":[0.38042551279067993,0.7314209938049316,0.02519279718399048,0.08853301405906677],\"entities\":[{\"kind\":\"classes\",\"name\":\"classes\",\"classes\":{\"person\":0.030082732439041138}}]},{\"box\":[0.5340270400047302,0.7733392119407654,0.1895982027053833,0.09803731739521027],\"entities\":[{\"kind\":\"classes\",\"name\":\"classes\",\"classes\":{\"boat\":0.030036062002182007}}]},{\"box\":[0.5357760190963745,0.580480694770813,0.13576853275299072,0.3140566647052765],\"entities\":[{\"kind\":\"classes\",\"name\":\"classes\",\"classes\":{\"baseball bat\":0.029690086841583252}}]},{\"box\":[0.4387449324131012,0.8539814352989197,0.09899362921714783,0.029420914128422737],\"entities\":[{\"kind\":\"classes\",\"name\":\"classes\",\"classes\":{\"surfboard\":0.029127538204193115}}]},{\"box\":[0.003609822131693363,0.8372185230255127,0.017194967716932297,0.043544020503759384],\"entities\":[{\"kind\":\"classes\",\"name\":\"classes\",\"classes\":{\"person\":0.029029786586761475}}]},{\"box\":[0.8297461271286011,0.8691903948783875,0.05158543586730957,0.02486511319875717],\"entities\":[{\"kind\":\"classes\",\"name\":\"classes\",\"classes\":{\"dog\":0.028968334197998047}}]},{\"box\":[0.6564424633979797,0.85856032371521,0.19596564769744873,0.04433121159672737],\"entities\":[{\"kind\":\"classes\",\"name\":\"classes\",\"classes\":{\"skis\":0.028573989868164062}}]},{\"box\":[0.5187593698501587,0.7880710959434509,0.23550307750701904,0.09019653499126434],\"entities\":[{\"kind\":\"classes\",\"name\":\"classes\",\"classes\":{\"kite\":0.028484970331192017}}]},{\"box\":[0.6448167562484741,0.8237406015396118,0.32636165618896484,0.09153519570827484],\"entities\":[{\"kind\":\"classes\",\"name\":\"classes\",\"classes\":{\"dog\":0.028479427099227905}}]},{\"box\":[0.5340270400047302,0.7733392119407654,0.1895982027053833,0.09803731739521027],\"entities\":[{\"kind\":\"classes\",\"name\":\"classes\",\"classes\":{\"bench\":0.028452128171920776}}]},{\"box\":[0.8343814015388489,0.884565532207489,0.04184591770172119,0.0163087360560894],\"entities\":[{\"kind\":\"classes\",\"name\":\"classes\",\"classes\":{\"bird\":0.02830713987350464}}]}]}]}]}\n",
      "\n"
     ]
    },
    {
     "data": {
      "text/plain": [
       "[{'elephant': 0.9192293882369995},\n",
       " {'person': 0.8235878944396973},\n",
       " {'person': 0.7554508447647095},\n",
       " {'frisbee': 0.23767375946044922},\n",
       " {'surfboard': 0.16943219304084778},\n",
       " {'sports ball': 0.16391152143478394},\n",
       " {'surfboard': 0.13610807061195374},\n",
       " {'surfboard': 0.12691384553909302},\n",
       " {'surfboard': 0.11492064595222473},\n",
       " {'frisbee': 0.10632261633872986},\n",
       " {'frisbee': 0.10128277540206909},\n",
       " {'bench': 0.09685647487640381},\n",
       " {'baseball glove': 0.08886265754699707},\n",
       " {'car': 0.08037510514259338},\n",
       " {'sports ball': 0.07202321290969849},\n",
       " {'surfboard': 0.06646996736526489},\n",
       " {'tennis racket': 0.06452915072441101},\n",
       " {'boat': 0.05786880850791931},\n",
       " {'surfboard': 0.05615502595901489},\n",
       " {'baseball glove': 0.0512540340423584},\n",
       " {'baseball glove': 0.049322932958602905},\n",
       " {'skis': 0.048879772424697876},\n",
       " {'kite': 0.04797607660293579},\n",
       " {'sports ball': 0.04760846495628357},\n",
       " {'bird': 0.044846922159194946},\n",
       " {'surfboard': 0.04422503709793091},\n",
       " {'tennis racket': 0.04376831650733948},\n",
       " {'kite': 0.04273879528045654},\n",
       " {'frisbee': 0.04204794764518738},\n",
       " {'boat': 0.0418323278427124},\n",
       " {'backpack': 0.040879517793655396},\n",
       " {'frisbee': 0.040837883949279785},\n",
       " {'bench': 0.040454715490341187},\n",
       " {'bird': 0.04037627577781677},\n",
       " {'truck': 0.03776481747627258},\n",
       " {'sports ball': 0.037687867879867554},\n",
       " {'skis': 0.03705921769142151},\n",
       " {'elephant': 0.035988062620162964},\n",
       " {'baseball bat': 0.035831719636917114},\n",
       " {'clock': 0.03557443618774414},\n",
       " {'bird': 0.03508058190345764},\n",
       " {'surfboard': 0.03463006019592285},\n",
       " {'car': 0.03289574384689331},\n",
       " {'baseball glove': 0.03268367052078247},\n",
       " {'boat': 0.03230983018875122},\n",
       " {'frisbee': 0.03208598494529724},\n",
       " {'elephant': 0.03183034062385559},\n",
       " {'tennis racket': 0.03158608078956604},\n",
       " {'baseball glove': 0.03148666024208069},\n",
       " {'elephant': 0.0313049852848053},\n",
       " {'tennis racket': 0.03126642107963562},\n",
       " {'backpack': 0.031235814094543457},\n",
       " {'car': 0.030983000993728638},\n",
       " {'person': 0.030082732439041138},\n",
       " {'boat': 0.030036062002182007},\n",
       " {'baseball bat': 0.029690086841583252},\n",
       " {'surfboard': 0.029127538204193115},\n",
       " {'person': 0.029029786586761475},\n",
       " {'dog': 0.028968334197998047},\n",
       " {'skis': 0.028573989868164062},\n",
       " {'kite': 0.028484970331192017},\n",
       " {'dog': 0.028479427099227905},\n",
       " {'bench': 0.028452128171920776},\n",
       " {'bird': 0.02830713987350464}]"
      ]
     },
     "execution_count": 47,
     "metadata": {},
     "output_type": "execute_result"
    }
   ],
   "source": [
    "#!/usr/bin/env python3\n",
    "\n",
    "\"\"\"Example of using API4AI general objects detection.\"\"\"\n",
    "\n",
    "import os\n",
    "import sys\n",
    "\n",
    "import requests\n",
    "\n",
    "\n",
    "# Use 'demo' mode just to try api4ai for free. Free demo is rate limited.\n",
    "# For more details visit:\n",
    "#   https://api4.ai\n",
    "#\n",
    "# Use 'rapidapi' if you want to try api4ai via RapidAPI marketplace.\n",
    "# For more details visit:\n",
    "#   https://rapidapi.com/api4ai-api4ai-default/api/general-detection/details\n",
    "MODE = 'demo'\n",
    "\n",
    "\n",
    "# Your RapidAPI key. Fill this variable with the proper value if you want\n",
    "# to try api4ai via RapidAPI marketplace.\n",
    "RAPIDAPI_KEY = ''\n",
    "\n",
    "\n",
    "OPTIONS = {\n",
    "    'demo': {\n",
    "        'url': 'https://demo.api4ai.cloud/general-det/v1/results',\n",
    "        'headers': {'A4A-CLIENT-APP-ID': 'sample'}\n",
    "    },\n",
    "    'rapidapi': {\n",
    "        'url': 'https://general-detection.p.rapidapi.com/v1/results',\n",
    "        'headers': {'X-RapidAPI-Key': RAPIDAPI_KEY}\n",
    "    }\n",
    "}\n",
    "\n",
    "def call_api(image, accuracy_confidence = 0.5):\n",
    "    if '://' in image:\n",
    "        # POST image via URL.\n",
    "        response = requests.post(\n",
    "            OPTIONS[MODE]['url'],\n",
    "            headers=OPTIONS[MODE]['headers'],\n",
    "            data={'url': image})\n",
    "    else:\n",
    "        # POST image as file.\n",
    "        with open(image, 'rb') as image_file:\n",
    "            response = requests.post(\n",
    "                OPTIONS[MODE]['url'],\n",
    "                headers=OPTIONS[MODE]['headers'],\n",
    "                files={'image': (os.path.basename(image), image_file)}\n",
    "            )\n",
    "\n",
    "    # Print raw response.\n",
    "    print(f'💬 Raw response:\\n{response.text}\\n')\n",
    "\n",
    "    # Parse response and objects with confidence > 0.5.\n",
    "    confident = [x['entities'][0]['classes']\n",
    "                 for x in response.json()['results'][0]['entities'][0]['objects']  # noqa\n",
    "                 if list(x['entities'][0]['classes'].values())[0] > accuracy_confidence]\n",
    "    return confident\n",
    "    print(f'💬 {len(confident)} objects found with confidence above 0.5:\\n{confident}\\n')\n",
    "\n",
    "\n",
    "call_api('https://storage.googleapis.com/api4ai-static/samples/general-det-1.jpg',0.5)\n",
    "\n",
    "# if __name__ == '__main__':\n",
    "#     # Parse args.\n",
    "#     image = sys.argv[1] if len(sys.argv) > 1 else 'https://storage.googleapis.com/api4ai-static/samples/general-det-1.jpg'\n",
    "#     call_api(image=image)\n",
    "    "
   ]
  },
  {
   "cell_type": "code",
   "execution_count": 46,
   "metadata": {},
   "outputs": [
    {
     "name": "stdout",
     "output_type": "stream",
     "text": [
      "elephant, person, person\n"
     ]
    }
   ],
   "source": [
    "def objects_detected_to_strg(confident):\n",
    "    return ', '.join(list(map(lambda x: list(x.keys())[0], confident)))\n",
    "\n",
    "# test objects_detected_to_strg\n",
    "confident= [{'elephant': 0.9192293882369995}, {'person': 0.8235878944396973}, {'person': 0.7554508447647095}]\n",
    "print(objects_detected_to_strg(confident))"
   ]
  },
  {
   "cell_type": "code",
   "execution_count": 52,
   "metadata": {},
   "outputs": [
    {
     "name": "stdout",
     "output_type": "stream",
     "text": [
      "when flying\n",
      "\n",
      "The picture shows an elephant and two people, one of whom is in the air.\n"
     ]
    }
   ],
   "source": [
    "import openai\n",
    "openai.api_key = \"change me\"\n",
    "\n",
    "# context = \"I have applied object detection on an image and I will give you the objects in that image and I want you to give me a description of that image. But don't try to be too creative and end up giving false information about the image.\"\n",
    "context= \"Please provide minimal description of the objects present in the picture. don't describe their appearance, arrangement, and any notable features. Avoid speculation or imaginative elements. Your description should be based solely on what can be observed in the image.\"\n",
    "question = \"can you give me the description knowing that these are the objects: \"\n",
    "objects = objects_detected_to_strg(confident)\n",
    "\n",
    "response = openai.Completion.create(\n",
    "  model=\"text-davinci-003\",\n",
    "  # prompt=\"Write a tagline for an ice cream shop.\"\n",
    "  prompt = context + question + objects,\n",
    "  max_tokens=50\n",
    ")\n",
    "answer = response.choices[0].text.strip()\n",
    "print(answer)"
   ]
  },
  {
   "cell_type": "code",
   "execution_count": null,
   "metadata": {},
   "outputs": [],
   "source": [
    "# import smartlens\n",
    "# smartlens.api_key = \"MY_API_KEY\"\n",
    "   \n",
    "# response = smartlens.runCaptions(\n",
    "#    image = \"MY-IMAGE\"\n",
    "# )"
   ]
  }
 ],
 "metadata": {
  "kernelspec": {
   "display_name": "Python 3",
   "language": "python",
   "name": "python3"
  },
  "language_info": {
   "codemirror_mode": {
    "name": "ipython",
    "version": 3
   },
   "file_extension": ".py",
   "mimetype": "text/x-python",
   "name": "python",
   "nbconvert_exporter": "python",
   "pygments_lexer": "ipython3",
   "version": "3.8.0"
  },
  "orig_nbformat": 4
 },
 "nbformat": 4,
 "nbformat_minor": 2
}
